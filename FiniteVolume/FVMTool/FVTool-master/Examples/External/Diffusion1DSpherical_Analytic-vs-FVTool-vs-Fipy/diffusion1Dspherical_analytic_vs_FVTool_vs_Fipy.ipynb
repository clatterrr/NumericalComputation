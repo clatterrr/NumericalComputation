{
 "cells": [
  {
   "cell_type": "markdown",
   "metadata": {},
   "source": [
    "In order to be run, this Jupyter Python notebook requires that a number of specific Python modules (e.g. Fipy) are available; see all ``import`` statements. Also, it requires GNU Octave for executing the ``diffusion1Dspherical_FVTool.m`` script (to be placed in the same directory as this notebook) that calculates numerical solutions using FVTool.\n",
    "\n",
    "GNU Octave: https://www.gnu.org/software/octave/\n",
    "\n",
    "Fipy: https://www.ctcms.nist.gov/fipy/\n",
    "\n",
    "FVTool: https://github.com/simulkade/FVTool"
   ]
  },
  {
   "cell_type": "code",
   "execution_count": 1,
   "metadata": {},
   "outputs": [],
   "source": [
    "import sys\n",
    "import numpy as np\n",
    "from numpy import sqrt, exp, pi\n",
    "from scipy.special import erf\n",
    "import scipy.io as spio\n",
    "import fipy as fp\n",
    "import matplotlib.pyplot as plt\n",
    "from fipy import numerix\n",
    "import os.path"
   ]
  },
  {
   "cell_type": "code",
   "execution_count": 2,
   "metadata": {},
   "outputs": [
    {
     "name": "stdout",
     "output_type": "stream",
     "text": [
      "Python:  3.8.1 | packaged by conda-forge | (default, Jan 29 2020, 14:55:04) \n",
      "[GCC 7.3.0]\n",
      "Fipy v:  3.4.1\n",
      "Solver:  <class 'fipy.solvers.petsc.linearGMRESSolver.LinearGMRESSolver'>\n"
     ]
    }
   ],
   "source": [
    "print('Python: ', sys.version)\n",
    "print('Fipy v: ', fp.__version__)\n",
    "print('Solver: ', fp.DefaultSolver)"
   ]
  },
  {
   "cell_type": "markdown",
   "metadata": {},
   "source": [
    "# Diffusion of an initial sphere into an infinite medium\n",
    "\n",
    "M.H.V. Werts, 2020"
   ]
  },
  {
   "cell_type": "markdown",
   "metadata": {},
   "source": [
    "Here, we study the diffusion equation in an infinite medium with the initial condition that all matter is homogeneously distributed in a sphere radius $a$, and no matter is outside of this sphere.\n",
    "\n",
    "**Reference:** J. Crank (1975) \"The Mathematics of Diffusion\", 2nd Ed., \n",
    "      Clarendon Press (Oxford), pages 29-30, Equation 3.8, Figure 3.1"
   ]
  },
  {
   "cell_type": "markdown",
   "metadata": {},
   "source": [
    "A system of spherical symmetry in a spherical coordinate system, *i.e.* \"1D spherical\", space coordinate $r$. Time $t$.\n",
    "\n",
    "System parameters:\n",
    "\n",
    "$a$ : radius of initial sphere; \n",
    "$c_0$ : concentration in initial sphere; \n",
    "$D$ : diffusion coefficient\n",
    "\n",
    "Simple diffusion equation:\n",
    "\n",
    "$$\\frac{\\partial c}{\\partial t} = D \\nabla^2 c$$\n",
    "\n",
    "with initial condition:\n",
    "\n",
    "$$ \n",
    "c(t = 0, r \\leqslant a) = c_0 \\quad \\\\ \n",
    "c(t = 0, r > a) = 0\n",
    "$$\n",
    "\n"
   ]
  },
  {
   "cell_type": "code",
   "execution_count": 3,
   "metadata": {},
   "outputs": [],
   "source": [
    "a = 1.0\n",
    "C_0 = 1.0\n",
    "D = 1.0"
   ]
  },
  {
   "cell_type": "markdown",
   "metadata": {},
   "source": [
    "# Analytic solution\n",
    "\n",
    "From Crank's \"Mathematics of Diffusion\" (2nd Ed., 1975), Chapter 3, we take Eqn 3.8 and Fig. 3.1.\n",
    "\n",
    "Crank's Eqn 3.8 is coded below as the function ``C_sphere_infmed(r, t)``"
   ]
  },
  {
   "cell_type": "code",
   "execution_count": 4,
   "metadata": {},
   "outputs": [],
   "source": [
    "# this evaluates Crank (1975), eqn. (3.8)\n",
    "# a quick and dirty definition, with implicit globals\n",
    "# should be checked against Carslaw & Jaeger\n",
    "# but this form DOES reproduce Crank, fig. (3.1)\n",
    "def C_sphere_infmed(r, t):\n",
    "    term1 = erf((a-r)/(2*sqrt(D*t))) + erf((a+r)/(2*sqrt(D*t)))\n",
    "    term2b = exp(-(a-r)**2/(4*D*t)) - exp(-(a+r)**2/(4*D*t))\n",
    "    term2a = (D*t/pi) \n",
    "    C = 0.5 * C_0 * term1 - C_0/r * sqrt(term2a) * term2b\n",
    "    return C"
   ]
  },
  {
   "cell_type": "code",
   "execution_count": 5,
   "metadata": {},
   "outputs": [
    {
     "data": {
      "text/plain": [
       "<matplotlib.legend.Legend at 0x7f6df376a670>"
      ]
     },
     "execution_count": 5,
     "metadata": {},
     "output_type": "execute_result"
    },
    {
     "data": {
      "image/png": "[encoded data removed]",
      "text/plain": [
       "<Figure size 432x288 with 1 Axes>"
      ]
     },
     "metadata": {
      "needs_background": "light"
     },
     "output_type": "display_data"
    }
   ],
   "source": [
    "rr = np.linspace(0.001,4,1000)\n",
    "plt.figure(2)\n",
    "plt.clf()\n",
    "plt.title('analytic solution for $a = 1$, $D = 1$')\n",
    "plt.plot(rr, C_sphere_infmed(rr,0.0001),label='t~0')\n",
    "plt.plot(rr, C_sphere_infmed(rr,0.0625),label='t=0.0625')\n",
    "plt.plot(rr, C_sphere_infmed(rr,0.25),label='t=0.25')\n",
    "plt.plot(rr, C_sphere_infmed(rr,1.0),label='t=1.0')\n",
    "plt.ylabel('$C / C_0$')\n",
    "plt.xlabel('r')\n",
    "plt.legend()"
   ]
  },
  {
   "cell_type": "markdown",
   "metadata": {},
   "source": [
    "The figure above is consistent with Figure 3.1 from Crank's book, demonstrating probable correctness of our code for evaluation of the analytic solution."
   ]
  },
  {
   "cell_type": "markdown",
   "metadata": {},
   "source": [
    "# Comparison with numerical solutions by FVTool and Fipy"
   ]
  },
  {
   "cell_type": "markdown",
   "metadata": {},
   "source": [
    "In the following we will reproduce the curves at the different time points using FiPy and FVTool. FVTool is run separately (since it is Matlab/Octave) by calling it directly from this notebook. The results are stored in '.mat' files and are retrieved here.\n",
    "\n",
    "We calculate the solution with Fipy and pull in the results from FVTool. Then, we compare with the analytic solution."
   ]
  },
  {
   "cell_type": "markdown",
   "metadata": {},
   "source": [
    "## FVTool\n",
    "\n",
    "Concerning FVTool, it was observed that a very fine grid needs to be used. 50 cells is woofully insufficient (very imprecise result), 100 is slightly better, 500 seems to do OK, 1000 cells on 10 units width better still. We finally used 2000 cells over 10 units! We use smaller time-steps than with Fipy (0.0625/20 instead of 0.0625/10), but this does not change the final result much."
   ]
  },
  {
   "cell_type": "markdown",
   "metadata": {},
   "source": [
    "First we call command-line octave...\n",
    "\n",
    "This generates '.mat' files which contain the solutions at the same time-points as in Crank's figure."
   ]
  },
  {
   "cell_type": "code",
   "execution_count": 6,
   "metadata": {
    "scrolled": true
   },
   "outputs": [
    {
     "name": "stdout",
     "output_type": "stream",
     "text": [
      "AGMG 3.x linear solver is NOT available (Not necessary).\n",
      "PVTtoolbox is NOT available (Not necessary).\n",
      "FiniteVolumeToolbox has started successfully.\n",
      "cellsum =  4188.8\n",
      "t = 0\n",
      "m_tot =  4.1263\n",
      "ti = 0\n",
      "n =  20\n",
      "t =  0.062500\n",
      "m_tot =  4.1263\n",
      "filename = diffusion1Dspherical_FVTool_tstep20.mat\n",
      "n =  60\n",
      "t =  0.25000\n",
      "m_tot =  4.1263\n",
      "filename = diffusion1Dspherical_FVTool_tstep80.mat\n",
      "n =  240\n",
      "t =  1.0000\n",
      "m_tot =  4.1263\n",
      "filename = diffusion1Dspherical_FVTool_tstep320.mat\n"
     ]
    }
   ],
   "source": [
    "# only call the script if the first result file does not exist\n",
    "if not os.path.exists('diffusion1Dspherical_FVTool_tstep20.mat'):\n",
    "    !octave diffusion1Dspherical_FVTool.m\n",
    "else:\n",
    "    print('result file exists. did not run FVTool.')"
   ]
  },
  {
   "cell_type": "markdown",
   "metadata": {},
   "source": [
    "## Fipy\n",
    "\n",
    "Fipy does not have a 1D spherical grid. Therefore we use a 2D cylindrical grid with a variable ``rs`` which contains the distance to the origin for each cell center.\n",
    "\n",
    "We experimented with number of cells (moving to 200x200 instead of 120x120 does not change final result much)"
   ]
  },
  {
   "cell_type": "code",
   "execution_count": 7,
   "metadata": {},
   "outputs": [],
   "source": [
    "boxsize = 120\n",
    "msh = fp.CylindricalGrid2D(nr = boxsize, nz = boxsize, Lr = 10.0, Lz = 10.0)\n",
    "rc = msh.cellCenters[0]\n",
    "zc = msh.cellCenters[1]\n",
    "rs = numerix.sqrt(rc**2 + zc**2)"
   ]
  },
  {
   "cell_type": "markdown",
   "metadata": {},
   "source": [
    "First, we define the concentration cell variable and immediately initialize it with the initial condition"
   ]
  },
  {
   "cell_type": "code",
   "execution_count": 8,
   "metadata": {},
   "outputs": [],
   "source": [
    "c = fp.CellVariable(name = 'c', mesh = msh, value = 0.)"
   ]
  },
  {
   "cell_type": "code",
   "execution_count": 9,
   "metadata": {},
   "outputs": [],
   "source": [
    "c[rs<a] = C_0"
   ]
  },
  {
   "cell_type": "markdown",
   "metadata": {},
   "source": [
    "The boundary conditions may be Dirichlet on the outer boundaries (right and top), and zero-flux on the inner boundaries (bottom and left). Zero-flux is implicit: if nothing is specified we have zero-flux.\n",
    "\n",
    "Anyway, in the present case there is no difference between Dirichlet and zero-flux, showing that our grid is large enough to emulate an infinite medium."
   ]
  },
  {
   "cell_type": "code",
   "execution_count": 10,
   "metadata": {},
   "outputs": [],
   "source": [
    "## if this is commented out, we are using zero-flux!\n",
    "#c.constrain(0., where = msh.facesRight)\n",
    "#c.constrain(0., where = msh.facesTop)"
   ]
  },
  {
   "cell_type": "markdown",
   "metadata": {},
   "source": [
    "We still need to define our transport equation"
   ]
  },
  {
   "cell_type": "code",
   "execution_count": 11,
   "metadata": {},
   "outputs": [],
   "source": [
    "eq = fp.TransientTerm(var = c) == fp.DiffusionTerm(coeff = D, var = c)"
   ]
  },
  {
   "cell_type": "markdown",
   "metadata": {},
   "source": [
    "Now, we initialize time $t$, and take the first time step."
   ]
  },
  {
   "cell_type": "code",
   "execution_count": 12,
   "metadata": {},
   "outputs": [],
   "source": [
    "t = 0. # master time\n",
    "deltat = 0.0625/10"
   ]
  },
  {
   "cell_type": "code",
   "execution_count": 13,
   "metadata": {},
   "outputs": [],
   "source": [
    "eq.solve(dt=deltat); t+=deltat"
   ]
  },
  {
   "cell_type": "markdown",
   "metadata": {},
   "source": [
    "For plotting the Fipy solution after this first careful timestep, we only plot the values of the cells at the lowest $z$ ($z = 0$)."
   ]
  },
  {
   "cell_type": "code",
   "execution_count": 14,
   "metadata": {},
   "outputs": [
    {
     "data": {
      "text/plain": [
       "Text(0.5, 1.0, 't = 0.00625')"
      ]
     },
     "execution_count": 14,
     "metadata": {},
     "output_type": "execute_result"
    },
    {
     "data": {
      "image/png": "[encoded data removed]",
      "text/plain": [
       "<Figure size 432x288 with 1 Axes>"
      ]
     },
     "metadata": {
      "needs_background": "light"
     },
     "output_type": "display_data"
    }
   ],
   "source": [
    "plt.plot(rs.value[0:boxsize],c.value[0:boxsize])\n",
    "plt.title('t = {0:.5f}'.format(t))"
   ]
  },
  {
   "cell_type": "markdown",
   "metadata": {},
   "source": [
    "Now we take 9 additional steps to arrive at $t = 0.0625$, the first time point in Crank's figure. Subsequently, we plot the concentration profile and compare it with the analytic profile and the result from FVTool."
   ]
  },
  {
   "cell_type": "code",
   "execution_count": 15,
   "metadata": {},
   "outputs": [],
   "source": [
    "# nine additional steps\n",
    "for i in range(9):\n",
    "    eq.solve(dt=deltat); t+=deltat"
   ]
  },
  {
   "cell_type": "code",
   "execution_count": 16,
   "metadata": {},
   "outputs": [],
   "source": [
    "rr = np.linspace(0.001,5,1000) # for plotting analytic solution"
   ]
  },
  {
   "cell_type": "code",
   "execution_count": 17,
   "metadata": {},
   "outputs": [],
   "source": [
    "# get result from FVTool\n",
    "lm = spio.loadmat('diffusion1Dspherical_FVTool_tstep20.mat')\n",
    "fvr = lm['x']\n",
    "fvc = lm['cval']"
   ]
  },
  {
   "cell_type": "code",
   "execution_count": 18,
   "metadata": {},
   "outputs": [
    {
     "data": {
      "text/plain": [
       "<matplotlib.legend.Legend at 0x7f6df0c265b0>"
      ]
     },
     "execution_count": 18,
     "metadata": {},
     "output_type": "execute_result"
    },
    {
     "data": {
      "image/png": "[encoded data removed]",
      "text/plain": [
       "<Figure size 432x288 with 1 Axes>"
      ]
     },
     "metadata": {
      "needs_background": "light"
     },
     "output_type": "display_data"
    }
   ],
   "source": [
    "plt.plot(rr, C_sphere_infmed(rr,t), label = 'analytic')\n",
    "plt.plot(rs.value[0:boxsize],c.value[0:boxsize], label = 'FiPy')\n",
    "plt.plot(fvr,fvc, label = 'FVTool')\n",
    "plt.title('t = {0:.5f}'.format(t))\n",
    "plt.ylabel('$C / C_0$')\n",
    "plt.xlabel('r')\n",
    "plt.legend()"
   ]
  },
  {
   "cell_type": "code",
   "execution_count": 19,
   "metadata": {},
   "outputs": [],
   "source": [
    "# thirty additional steps to arrive at next curve\n",
    "for i in range(30):\n",
    "    eq.solve(dt=deltat); t+=deltat"
   ]
  },
  {
   "cell_type": "code",
   "execution_count": 20,
   "metadata": {},
   "outputs": [],
   "source": [
    "# get result from FVTool\n",
    "lm = spio.loadmat('diffusion1Dspherical_FVTool_tstep80.mat')\n",
    "fvr = lm['x']\n",
    "fvc = lm['cval']"
   ]
  },
  {
   "cell_type": "code",
   "execution_count": 21,
   "metadata": {},
   "outputs": [
    {
     "data": {
      "text/plain": [
       "<matplotlib.legend.Legend at 0x7f6df0ba4d90>"
      ]
     },
     "execution_count": 21,
     "metadata": {},
     "output_type": "execute_result"
    },
    {
     "data": {
      "image/png": "[encoded data removed]",
      "text/plain": [
       "<Figure size 432x288 with 1 Axes>"
      ]
     },
     "metadata": {
      "needs_background": "light"
     },
     "output_type": "display_data"
    }
   ],
   "source": [
    "plt.plot(rr, C_sphere_infmed(rr,t), label = 'analytic')\n",
    "plt.plot(rs.value[0:boxsize],c.value[0:boxsize], label = 'FiPy')\n",
    "plt.plot(fvr,fvc, label = 'FVTool')\n",
    "plt.title('t = {0:.5f}'.format(t))\n",
    "plt.ylabel('$C / C_0$')\n",
    "plt.xlabel('r')\n",
    "plt.legend()"
   ]
  },
  {
   "cell_type": "markdown",
   "metadata": {},
   "source": [
    "We can also calculate the difference between the analytic solution and the numerical results from Fipy and FVTool."
   ]
  },
  {
   "cell_type": "code",
   "execution_count": 22,
   "metadata": {},
   "outputs": [
    {
     "data": {
      "text/plain": [
       "<matplotlib.legend.Legend at 0x7f6df0baf340>"
      ]
     },
     "execution_count": 22,
     "metadata": {},
     "output_type": "execute_result"
    },
    {
     "data": {
      "image/png": "[encoded data removed]",
      "text/plain": [
       "<Figure size 432x288 with 1 Axes>"
      ]
     },
     "metadata": {
      "needs_background": "light"
     },
     "output_type": "display_data"
    }
   ],
   "source": [
    "plt.plot(rs.value[1:boxsize],c.value[1:boxsize]-C_sphere_infmed(rs.value[1:boxsize],t), label = 'FiPy')\n",
    "plt.plot(fvr[1:],fvc[1:]-C_sphere_infmed(fvr[1:],t), label = 'FVTool')\n",
    "plt.title('t = {0:.5f}'.format(t))\n",
    "plt.ylabel('error')\n",
    "plt.xlabel('r')\n",
    "plt.legend()"
   ]
  },
  {
   "cell_type": "code",
   "execution_count": 23,
   "metadata": {},
   "outputs": [],
   "source": [
    "for i in range(120):\n",
    "    eq.solve(dt=deltat); t+=deltat"
   ]
  },
  {
   "cell_type": "code",
   "execution_count": 24,
   "metadata": {},
   "outputs": [],
   "source": [
    "# get result from FVTool\n",
    "lm = spio.loadmat('diffusion1Dspherical_FVTool_tstep320.mat')\n",
    "fvr = lm['x']\n",
    "fvc = lm['cval']"
   ]
  },
  {
   "cell_type": "code",
   "execution_count": 25,
   "metadata": {},
   "outputs": [
    {
     "data": {
      "text/plain": [
       "<matplotlib.legend.Legend at 0x7f6df0b16160>"
      ]
     },
     "execution_count": 25,
     "metadata": {},
     "output_type": "execute_result"
    },
    {
     "data": {
      "image/png": "[encoded data removed]",
      "text/plain": [
       "<Figure size 432x288 with 1 Axes>"
      ]
     },
     "metadata": {
      "needs_background": "light"
     },
     "output_type": "display_data"
    }
   ],
   "source": [
    "plt.plot(rr, C_sphere_infmed(rr,t), label = 'analytic')\n",
    "plt.plot(rs.value[0:boxsize],c.value[0:boxsize], label = 'FiPy')\n",
    "plt.plot(fvr,fvc, label = 'FVTool')\n",
    "plt.title('t = {0:.5f}'.format(t))\n",
    "plt.ylabel('$C / C_0$')\n",
    "plt.xlabel('r')\n",
    "plt.legend()"
   ]
  },
  {
   "cell_type": "code",
   "execution_count": 26,
   "metadata": {},
   "outputs": [
    {
     "data": {
      "text/plain": [
       "<matplotlib.legend.Legend at 0x7f6df0b07ee0>"
      ]
     },
     "execution_count": 26,
     "metadata": {},
     "output_type": "execute_result"
    },
    {
     "data": {
      "image/png": "[encoded data removed]",
      "text/plain": [
       "<Figure size 432x288 with 1 Axes>"
      ]
     },
     "metadata": {
      "needs_background": "light"
     },
     "output_type": "display_data"
    }
   ],
   "source": [
    "plt.plot(rs.value[1:boxsize],c.value[1:boxsize]-C_sphere_infmed(rs.value[1:boxsize],t), label = 'FiPy')\n",
    "plt.plot(fvr[1:],fvc[1:]-C_sphere_infmed(fvr[1:],t), label = 'FVTool')\n",
    "plt.title('t = {0:.5f}'.format(t))\n",
    "plt.ylabel('error')\n",
    "plt.xlabel('r')\n",
    "plt.legend()"
   ]
  },
  {
   "cell_type": "markdown",
   "metadata": {},
   "source": [
    "# Conclusion\n",
    "\n",
    "This notebook shows that once the computational parameters for Fipy and FVTool have suitable values, close agreement is obtained with the analytic solution from [Crank 1975] for this particular diffusion problem. It also shows how to call FVTool and how to set up a simple calculation in spherical symmetry with Fipy.\n",
    "\n",
    "It might be of interest to analyze the subtle differences between the analytic and numerical solutions. The FVTool calculation may be made more efficient by using unevenly sized cells: smaller cells near the initial sphere, larger cells farther away from the origin."
   ]
  }
 ],
 "metadata": {
  "kernelspec": {
   "display_name": "Python 3",
   "language": "python",
   "name": "python3"
  },
  "language_info": {
   "codemirror_mode": {
    "name": "ipython",
    "version": 3
   },
   "file_extension": ".py",
   "mimetype": "text/x-python",
   "name": "python",
   "nbconvert_exporter": "python",
   "pygments_lexer": "ipython3",
   "version": "3.8.1"
  }
 },
 "nbformat": 4,
 "nbformat_minor": 4
}
